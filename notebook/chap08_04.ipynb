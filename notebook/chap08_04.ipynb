{
 "cells": [
  {
   "cell_type": "code",
   "execution_count": 1,
   "id": "334cdbba",
   "metadata": {},
   "outputs": [],
   "source": [
    "import matplotlib.pyplot as plt\n",
    "import numpy as np"
   ]
  },
  {
   "cell_type": "code",
   "execution_count": 2,
   "id": "dd5fa95f",
   "metadata": {},
   "outputs": [],
   "source": [
    "%matplotlib inline"
   ]
  },
  {
   "cell_type": "code",
   "execution_count": 4,
   "id": "62c2aec2",
   "metadata": {},
   "outputs": [],
   "source": [
    "plt.style.use(\"ggplot\")"
   ]
  },
  {
   "cell_type": "code",
   "execution_count": 5,
   "id": "020c8e5a",
   "metadata": {},
   "outputs": [],
   "source": [
    "errors = np.array([122,146,110,97,102])\n",
    "labels = [\"line1\",\"line2\",\"line3\",\"line4\",\"line5\"]"
   ]
  },
  {
   "cell_type": "code",
   "execution_count": 6,
   "id": "31c18fc5",
   "metadata": {},
   "outputs": [],
   "source": [
    "colors = [\"r\",\"b\",\"g\",\"c\",\"m\"]"
   ]
  },
  {
   "cell_type": "code",
   "execution_count": 7,
   "id": "06a8a6aa",
   "metadata": {},
   "outputs": [
    {
     "data": {
      "text/plain": [
       "([<matplotlib.patches.Wedge at 0x194179a41f0>,\n",
       "  <matplotlib.patches.Wedge at 0x194179a4910>,\n",
       "  <matplotlib.patches.Wedge at 0x194179b8070>,\n",
       "  <matplotlib.patches.Wedge at 0x194179b8790>,\n",
       "  <matplotlib.patches.Wedge at 0x194179b8eb0>],\n",
       " [Text(0.6781187375138377, 0.8661148756560176, 'line1'),\n",
       "  Text(0.936257454593077, -0.5774270332422032, 'line2'),\n",
       "  Text(-0.40360019534606617, -1.0232824059450145, 'line3'),\n",
       "  Text(-1.097453387499051, -0.07480683302251122, 'line4'),\n",
       "  Text(-0.5799737000257407, 0.9346820353887477, 'line5')],\n",
       " [Text(0.3698829477348205, 0.4724262958123732, '21.1%'),\n",
       "  Text(0.5106858843234965, -0.3149601999502927, '25.3%'),\n",
       "  Text(-0.22014556109785424, -0.5581540396063714, '19.1%'),\n",
       "  Text(-0.598610938635846, -0.04080372710318793, '16.8%'),\n",
       "  Text(-0.31634929092313124, 0.5098265647574988, '17.7%')])"
      ]
     },
     "execution_count": 7,
     "metadata": {},
     "output_type": "execute_result"
    },
    {
     "data": {
      "image/png": "[encoded data removed]",
      "text/plain": [
       "<Figure size 432x288 with 1 Axes>"
      ]
     },
     "metadata": {},
     "output_type": "display_data"
    }
   ],
   "source": [
    "plt.title(\"Number of detections\")\n",
    "plt.pie(errors, labels=labels, counterclock=False, startangle=90, autopct=\"%1.1f%%\", colors=colors)"
   ]
  },
  {
   "cell_type": "code",
   "execution_count": null,
   "id": "e2246911",
   "metadata": {},
   "outputs": [],
   "source": []
  }
 ],
 "metadata": {
  "kernelspec": {
   "display_name": "Python 3 (ipykernel)",
   "language": "python",
   "name": "python3"
  },
  "language_info": {
   "codemirror_mode": {
    "name": "ipython",
    "version": 3
   },
   "file_extension": ".py",
   "mimetype": "text/x-python",
   "name": "python",
   "nbconvert_exporter": "python",
   "pygments_lexer": "ipython3",
   "version": "3.9.12"
  }
 },
 "nbformat": 4,
 "nbformat_minor": 5
}
