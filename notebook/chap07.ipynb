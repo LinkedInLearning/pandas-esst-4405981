{
 "cells": [
  {
   "cell_type": "code",
   "execution_count": 8,
   "id": "6c70e182",
   "metadata": {},
   "outputs": [],
   "source": [
    "import pandas as pd"
   ]
  },
  {
   "cell_type": "code",
   "execution_count": 22,
   "id": "a6aab004",
   "metadata": {},
   "outputs": [],
   "source": [
    "df1 = pd.DataFrame({\n",
    "    \"社員NO\":[101,102,103,201,302,402],\n",
    "    \"名前\":[\"相川\",\"井伊\",\"上野\",\"江藤\",\"大野\",\"柿沢\"],\n",
    "    \"年齢\":[23,24,35,36,37,39],\n",
    "    \"所属\":[\"営業課\",\"開発課\",\"総務課\",\"営業課\",\"開発課\",\"営業課\"],\n",
    "}).set_index(\"社員NO\")"
   ]
  },
  {
   "cell_type": "code",
   "execution_count": 23,
   "id": "5dbd86fe",
   "metadata": {},
   "outputs": [],
   "source": [
    "df2 = pd.DataFrame({\n",
    "    \"社員NO\":[101,102,103,201,302,402],\n",
    "    \"役職\":[\"\",\"\",\"\",\"チーフ\",\"係長\",\"課長\"],\n",
    "}).set_index(\"社員NO\")"
   ]
  },
  {
   "cell_type": "code",
   "execution_count": 24,
   "id": "114d13c9",
   "metadata": {},
   "outputs": [],
   "source": [
    "df3 = pd.DataFrame({\n",
    "   \"社員NO\":[101,102,103,201,302,402],\n",
    "    \"勤務地\":[\"東京\",\"大阪\",\"名古屋\",\"東京\",\"東京\",\"大阪\"],\n",
    "}).set_index(\"社員NO\")"
   ]
  },
  {
   "cell_type": "code",
   "execution_count": 25,
   "id": "53e90bf8",
   "metadata": {},
   "outputs": [],
   "source": [
    "df4 = df1.join([df2,df3])"
   ]
  },
  {
   "cell_type": "code",
   "execution_count": 26,
   "id": "36515d93",
   "metadata": {},
   "outputs": [
    {
     "data": {
      "text/html": [
       "<div>\n",
       "<style scoped>\n",
       "    .dataframe tbody tr th:only-of-type {\n",
       "        vertical-align: middle;\n",
       "    }\n",
       "\n",
       "    .dataframe tbody tr th {\n",
       "        vertical-align: top;\n",
       "    }\n",
       "\n",
       "    .dataframe thead th {\n",
       "        text-align: right;\n",
       "    }\n",
       "</style>\n",
       "<table border=\"1\" class=\"dataframe\">\n",
       "  <thead>\n",
       "    <tr style=\"text-align: right;\">\n",
       "      <th></th>\n",
       "      <th>名前</th>\n",
       "      <th>年齢</th>\n",
       "      <th>所属</th>\n",
       "      <th>役職</th>\n",
       "      <th>勤務地</th>\n",
       "    </tr>\n",
       "    <tr>\n",
       "      <th>社員NO</th>\n",
       "      <th></th>\n",
       "      <th></th>\n",
       "      <th></th>\n",
       "      <th></th>\n",
       "      <th></th>\n",
       "    </tr>\n",
       "  </thead>\n",
       "  <tbody>\n",
       "    <tr>\n",
       "      <th>101</th>\n",
       "      <td>相川</td>\n",
       "      <td>23</td>\n",
       "      <td>営業課</td>\n",
       "      <td></td>\n",
       "      <td>東京</td>\n",
       "    </tr>\n",
       "    <tr>\n",
       "      <th>102</th>\n",
       "      <td>井伊</td>\n",
       "      <td>24</td>\n",
       "      <td>開発課</td>\n",
       "      <td></td>\n",
       "      <td>大阪</td>\n",
       "    </tr>\n",
       "    <tr>\n",
       "      <th>103</th>\n",
       "      <td>上野</td>\n",
       "      <td>35</td>\n",
       "      <td>総務課</td>\n",
       "      <td></td>\n",
       "      <td>名古屋</td>\n",
       "    </tr>\n",
       "    <tr>\n",
       "      <th>201</th>\n",
       "      <td>江藤</td>\n",
       "      <td>36</td>\n",
       "      <td>営業課</td>\n",
       "      <td>チーフ</td>\n",
       "      <td>東京</td>\n",
       "    </tr>\n",
       "    <tr>\n",
       "      <th>302</th>\n",
       "      <td>大野</td>\n",
       "      <td>37</td>\n",
       "      <td>開発課</td>\n",
       "      <td>係長</td>\n",
       "      <td>東京</td>\n",
       "    </tr>\n",
       "    <tr>\n",
       "      <th>402</th>\n",
       "      <td>柿沢</td>\n",
       "      <td>39</td>\n",
       "      <td>営業課</td>\n",
       "      <td>課長</td>\n",
       "      <td>大阪</td>\n",
       "    </tr>\n",
       "  </tbody>\n",
       "</table>\n",
       "</div>"
      ],
      "text/plain": [
       "      名前  年齢   所属   役職  勤務地\n",
       "社員NO                       \n",
       "101   相川  23  営業課        東京\n",
       "102   井伊  24  開発課        大阪\n",
       "103   上野  35  総務課       名古屋\n",
       "201   江藤  36  営業課  チーフ   東京\n",
       "302   大野  37  開発課   係長   東京\n",
       "402   柿沢  39  営業課   課長   大阪"
      ]
     },
     "execution_count": 26,
     "metadata": {},
     "output_type": "execute_result"
    }
   ],
   "source": [
    "df4"
   ]
  },
  {
   "cell_type": "code",
   "execution_count": 15,
   "id": "67c41e0f",
   "metadata": {},
   "outputs": [],
   "source": [
    "df4.to_csv(\"../data/社員名簿.csv\")"
   ]
  },
  {
   "cell_type": "code",
   "execution_count": 16,
   "id": "7d9fae73",
   "metadata": {},
   "outputs": [],
   "source": [
    "df4.to_excel(\"../data/社員名簿.xlsx\")"
   ]
  },
  {
   "cell_type": "code",
   "execution_count": 27,
   "id": "411935b0",
   "metadata": {},
   "outputs": [],
   "source": [
    "df4.to_pickle(\"../data/社員名簿.pickle\")"
   ]
  },
  {
   "cell_type": "code",
   "execution_count": 28,
   "id": "a2e267f6",
   "metadata": {},
   "outputs": [],
   "source": [
    "df = pd.read_pickle(\"../data/社員名簿.pickle\")"
   ]
  },
  {
   "cell_type": "code",
   "execution_count": 29,
   "id": "f214d970",
   "metadata": {},
   "outputs": [
    {
     "data": {
      "text/html": [
       "<div>\n",
       "<style scoped>\n",
       "    .dataframe tbody tr th:only-of-type {\n",
       "        vertical-align: middle;\n",
       "    }\n",
       "\n",
       "    .dataframe tbody tr th {\n",
       "        vertical-align: top;\n",
       "    }\n",
       "\n",
       "    .dataframe thead th {\n",
       "        text-align: right;\n",
       "    }\n",
       "</style>\n",
       "<table border=\"1\" class=\"dataframe\">\n",
       "  <thead>\n",
       "    <tr style=\"text-align: right;\">\n",
       "      <th></th>\n",
       "      <th>名前</th>\n",
       "      <th>年齢</th>\n",
       "      <th>所属</th>\n",
       "      <th>役職</th>\n",
       "      <th>勤務地</th>\n",
       "    </tr>\n",
       "    <tr>\n",
       "      <th>社員NO</th>\n",
       "      <th></th>\n",
       "      <th></th>\n",
       "      <th></th>\n",
       "      <th></th>\n",
       "      <th></th>\n",
       "    </tr>\n",
       "  </thead>\n",
       "  <tbody>\n",
       "    <tr>\n",
       "      <th>101</th>\n",
       "      <td>相川</td>\n",
       "      <td>23</td>\n",
       "      <td>営業課</td>\n",
       "      <td></td>\n",
       "      <td>東京</td>\n",
       "    </tr>\n",
       "    <tr>\n",
       "      <th>102</th>\n",
       "      <td>井伊</td>\n",
       "      <td>24</td>\n",
       "      <td>開発課</td>\n",
       "      <td></td>\n",
       "      <td>大阪</td>\n",
       "    </tr>\n",
       "    <tr>\n",
       "      <th>103</th>\n",
       "      <td>上野</td>\n",
       "      <td>35</td>\n",
       "      <td>総務課</td>\n",
       "      <td></td>\n",
       "      <td>名古屋</td>\n",
       "    </tr>\n",
       "    <tr>\n",
       "      <th>201</th>\n",
       "      <td>江藤</td>\n",
       "      <td>36</td>\n",
       "      <td>営業課</td>\n",
       "      <td>チーフ</td>\n",
       "      <td>東京</td>\n",
       "    </tr>\n",
       "    <tr>\n",
       "      <th>302</th>\n",
       "      <td>大野</td>\n",
       "      <td>37</td>\n",
       "      <td>開発課</td>\n",
       "      <td>係長</td>\n",
       "      <td>東京</td>\n",
       "    </tr>\n",
       "    <tr>\n",
       "      <th>402</th>\n",
       "      <td>柿沢</td>\n",
       "      <td>39</td>\n",
       "      <td>営業課</td>\n",
       "      <td>課長</td>\n",
       "      <td>大阪</td>\n",
       "    </tr>\n",
       "  </tbody>\n",
       "</table>\n",
       "</div>"
      ],
      "text/plain": [
       "      名前  年齢   所属   役職  勤務地\n",
       "社員NO                       \n",
       "101   相川  23  営業課        東京\n",
       "102   井伊  24  開発課        大阪\n",
       "103   上野  35  総務課       名古屋\n",
       "201   江藤  36  営業課  チーフ   東京\n",
       "302   大野  37  開発課   係長   東京\n",
       "402   柿沢  39  営業課   課長   大阪"
      ]
     },
     "execution_count": 29,
     "metadata": {},
     "output_type": "execute_result"
    }
   ],
   "source": [
    "df"
   ]
  },
  {
   "cell_type": "code",
   "execution_count": null,
   "id": "38be6b58",
   "metadata": {},
   "outputs": [],
   "source": []
  }
 ],
 "metadata": {
  "kernelspec": {
   "display_name": "Python 3 (ipykernel)",
   "language": "python",
   "name": "python3"
  },
  "language_info": {
   "codemirror_mode": {
    "name": "ipython",
    "version": 3
   },
   "file_extension": ".py",
   "mimetype": "text/x-python",
   "name": "python",
   "nbconvert_exporter": "python",
   "pygments_lexer": "ipython3",
   "version": "3.9.12"
  }
 },
 "nbformat": 4,
 "nbformat_minor": 5
}
