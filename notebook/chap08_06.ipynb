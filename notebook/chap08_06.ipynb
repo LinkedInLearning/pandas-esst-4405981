{
 "cells": [
  {
   "cell_type": "code",
   "execution_count": 2,
   "id": "96c85aa5",
   "metadata": {},
   "outputs": [],
   "source": [
    "import pandas as pd\n",
    "import matplotlib.pyplot as plt\n",
    "%matplotlib inline\n",
    "plt.style.use('ggplot')"
   ]
  },
  {
   "cell_type": "code",
   "execution_count": 3,
   "id": "38304002",
   "metadata": {},
   "outputs": [],
   "source": [
    "df1 = pd.read_csv(\"../data/members.csv\")"
   ]
  },
  {
   "cell_type": "code",
   "execution_count": 5,
   "id": "872503a2",
   "metadata": {},
   "outputs": [],
   "source": [
    "df2 = pd.read_csv(\"../data/member_type.csv\")"
   ]
  },
  {
   "cell_type": "code",
   "execution_count": 6,
   "id": "a1cf7f5f",
   "metadata": {},
   "outputs": [
    {
     "data": {
      "text/html": [
       "<div>\n",
       "<style scoped>\n",
       "    .dataframe tbody tr th:only-of-type {\n",
       "        vertical-align: middle;\n",
       "    }\n",
       "\n",
       "    .dataframe tbody tr th {\n",
       "        vertical-align: top;\n",
       "    }\n",
       "\n",
       "    .dataframe thead th {\n",
       "        text-align: right;\n",
       "    }\n",
       "</style>\n",
       "<table border=\"1\" class=\"dataframe\">\n",
       "  <thead>\n",
       "    <tr style=\"text-align: right;\">\n",
       "      <th></th>\n",
       "      <th>Type No</th>\n",
       "      <th>Type Name</th>\n",
       "      <th>Price</th>\n",
       "    </tr>\n",
       "  </thead>\n",
       "  <tbody>\n",
       "    <tr>\n",
       "      <th>0</th>\n",
       "      <td>1</td>\n",
       "      <td>Full Time</td>\n",
       "      <td>50</td>\n",
       "    </tr>\n",
       "    <tr>\n",
       "      <th>1</th>\n",
       "      <td>2</td>\n",
       "      <td>Day Time</td>\n",
       "      <td>25</td>\n",
       "    </tr>\n",
       "    <tr>\n",
       "      <th>2</th>\n",
       "      <td>3</td>\n",
       "      <td>Night Time</td>\n",
       "      <td>35</td>\n",
       "    </tr>\n",
       "    <tr>\n",
       "      <th>3</th>\n",
       "      <td>4</td>\n",
       "      <td>Weekday</td>\n",
       "      <td>40</td>\n",
       "    </tr>\n",
       "  </tbody>\n",
       "</table>\n",
       "</div>"
      ],
      "text/plain": [
       "   Type No   Type Name  Price\n",
       "0        1   Full Time     50\n",
       "1        2    Day Time     25\n",
       "2        3  Night Time     35\n",
       "3        4     Weekday     40"
      ]
     },
     "execution_count": 6,
     "metadata": {},
     "output_type": "execute_result"
    }
   ],
   "source": [
    "df2"
   ]
  },
  {
   "cell_type": "code",
   "execution_count": 7,
   "id": "0b6d6e35",
   "metadata": {},
   "outputs": [
    {
     "data": {
      "text/html": [
       "<div>\n",
       "<style scoped>\n",
       "    .dataframe tbody tr th:only-of-type {\n",
       "        vertical-align: middle;\n",
       "    }\n",
       "\n",
       "    .dataframe tbody tr th {\n",
       "        vertical-align: top;\n",
       "    }\n",
       "\n",
       "    .dataframe thead th {\n",
       "        text-align: right;\n",
       "    }\n",
       "</style>\n",
       "<table border=\"1\" class=\"dataframe\">\n",
       "  <thead>\n",
       "    <tr style=\"text-align: right;\">\n",
       "      <th></th>\n",
       "      <th>ID</th>\n",
       "      <th>First Name</th>\n",
       "      <th>Last Name</th>\n",
       "      <th>Email</th>\n",
       "      <th>Phone</th>\n",
       "      <th>Customer Type</th>\n",
       "      <th>Member Type</th>\n",
       "    </tr>\n",
       "  </thead>\n",
       "  <tbody>\n",
       "    <tr>\n",
       "      <th>0</th>\n",
       "      <td>100</td>\n",
       "      <td>Carol</td>\n",
       "      <td>Shaw</td>\n",
       "      <td>cshaw0@mlb.com</td>\n",
       "      <td>(206)804-8771</td>\n",
       "      <td>Individual</td>\n",
       "      <td>1</td>\n",
       "    </tr>\n",
       "    <tr>\n",
       "      <th>1</th>\n",
       "      <td>101</td>\n",
       "      <td>Elizabeth</td>\n",
       "      <td>Carr</td>\n",
       "      <td>ecarr1@oracle.com</td>\n",
       "      <td>(512)187-2507</td>\n",
       "      <td>Individual</td>\n",
       "      <td>1</td>\n",
       "    </tr>\n",
       "    <tr>\n",
       "      <th>2</th>\n",
       "      <td>102</td>\n",
       "      <td>Ernest</td>\n",
       "      <td>Ramos</td>\n",
       "      <td>eramos2@plala.or.jp</td>\n",
       "      <td>(816)540-4257</td>\n",
       "      <td>Individual</td>\n",
       "      <td>1</td>\n",
       "    </tr>\n",
       "    <tr>\n",
       "      <th>3</th>\n",
       "      <td>103</td>\n",
       "      <td>Jane</td>\n",
       "      <td>Carter</td>\n",
       "      <td>jcarter3@harvard.edu</td>\n",
       "      <td>(214)839-0542</td>\n",
       "      <td>Individual</td>\n",
       "      <td>1</td>\n",
       "    </tr>\n",
       "    <tr>\n",
       "      <th>4</th>\n",
       "      <td>104</td>\n",
       "      <td>Martha</td>\n",
       "      <td>Cooper</td>\n",
       "      <td>mcooper4@go.com</td>\n",
       "      <td>(727)235-5696</td>\n",
       "      <td>Individual</td>\n",
       "      <td>1</td>\n",
       "    </tr>\n",
       "    <tr>\n",
       "      <th>...</th>\n",
       "      <td>...</td>\n",
       "      <td>...</td>\n",
       "      <td>...</td>\n",
       "      <td>...</td>\n",
       "      <td>...</td>\n",
       "      <td>...</td>\n",
       "      <td>...</td>\n",
       "    </tr>\n",
       "    <tr>\n",
       "      <th>295</th>\n",
       "      <td>395</td>\n",
       "      <td>Diana</td>\n",
       "      <td>Hicks</td>\n",
       "      <td>dhicks87@bloglovin.com</td>\n",
       "      <td>(513)289-6421</td>\n",
       "      <td>Individual</td>\n",
       "      <td>1</td>\n",
       "    </tr>\n",
       "    <tr>\n",
       "      <th>296</th>\n",
       "      <td>396</td>\n",
       "      <td>Thomas</td>\n",
       "      <td>Griffin</td>\n",
       "      <td>tgriffin88@smugmug.com</td>\n",
       "      <td>(801)631-7393</td>\n",
       "      <td>Business</td>\n",
       "      <td>1</td>\n",
       "    </tr>\n",
       "    <tr>\n",
       "      <th>297</th>\n",
       "      <td>397</td>\n",
       "      <td>Jonathan</td>\n",
       "      <td>Turner</td>\n",
       "      <td>jturner89@fc2.com</td>\n",
       "      <td>(310)968-4752</td>\n",
       "      <td>Individual</td>\n",
       "      <td>1</td>\n",
       "    </tr>\n",
       "    <tr>\n",
       "      <th>298</th>\n",
       "      <td>398</td>\n",
       "      <td>Jeremy</td>\n",
       "      <td>Robinson</td>\n",
       "      <td>jrobinson8a@gnu.org</td>\n",
       "      <td>(616)146-1693</td>\n",
       "      <td>Individual</td>\n",
       "      <td>1</td>\n",
       "    </tr>\n",
       "    <tr>\n",
       "      <th>299</th>\n",
       "      <td>399</td>\n",
       "      <td>David</td>\n",
       "      <td>Robertson</td>\n",
       "      <td>drobertson8b@istockphoto.com</td>\n",
       "      <td>(404)982-4393</td>\n",
       "      <td>Individual</td>\n",
       "      <td>1</td>\n",
       "    </tr>\n",
       "  </tbody>\n",
       "</table>\n",
       "<p>300 rows × 7 columns</p>\n",
       "</div>"
      ],
      "text/plain": [
       "      ID First Name  Last Name                         Email          Phone  \\\n",
       "0    100      Carol       Shaw                cshaw0@mlb.com  (206)804-8771   \n",
       "1    101  Elizabeth       Carr             ecarr1@oracle.com  (512)187-2507   \n",
       "2    102     Ernest      Ramos           eramos2@plala.or.jp  (816)540-4257   \n",
       "3    103       Jane     Carter          jcarter3@harvard.edu  (214)839-0542   \n",
       "4    104     Martha     Cooper               mcooper4@go.com  (727)235-5696   \n",
       "..   ...        ...        ...                           ...            ...   \n",
       "295  395      Diana      Hicks        dhicks87@bloglovin.com  (513)289-6421   \n",
       "296  396     Thomas    Griffin        tgriffin88@smugmug.com  (801)631-7393   \n",
       "297  397   Jonathan     Turner             jturner89@fc2.com  (310)968-4752   \n",
       "298  398     Jeremy   Robinson           jrobinson8a@gnu.org  (616)146-1693   \n",
       "299  399      David  Robertson  drobertson8b@istockphoto.com  (404)982-4393   \n",
       "\n",
       "    Customer Type  Member Type  \n",
       "0      Individual            1  \n",
       "1      Individual            1  \n",
       "2      Individual            1  \n",
       "3      Individual            1  \n",
       "4      Individual            1  \n",
       "..            ...          ...  \n",
       "295    Individual            1  \n",
       "296      Business            1  \n",
       "297    Individual            1  \n",
       "298    Individual            1  \n",
       "299    Individual            1  \n",
       "\n",
       "[300 rows x 7 columns]"
      ]
     },
     "execution_count": 7,
     "metadata": {},
     "output_type": "execute_result"
    }
   ],
   "source": [
    "df1"
   ]
  },
  {
   "cell_type": "code",
   "execution_count": 8,
   "id": "b32a2003",
   "metadata": {},
   "outputs": [
    {
     "data": {
      "text/plain": [
       "0      1\n",
       "1      1\n",
       "2      1\n",
       "3      1\n",
       "4      1\n",
       "      ..\n",
       "295    1\n",
       "296    1\n",
       "297    1\n",
       "298    1\n",
       "299    1\n",
       "Name: Member Type, Length: 300, dtype: int64"
      ]
     },
     "execution_count": 8,
     "metadata": {},
     "output_type": "execute_result"
    }
   ],
   "source": [
    "df1[\"Member Type\"]"
   ]
  },
  {
   "cell_type": "code",
   "execution_count": 9,
   "id": "a2dadd72",
   "metadata": {},
   "outputs": [
    {
     "data": {
      "text/plain": [
       "array([1, 2, 3, 4], dtype=int64)"
      ]
     },
     "execution_count": 9,
     "metadata": {},
     "output_type": "execute_result"
    }
   ],
   "source": [
    "df1[\"Member Type\"].unique()"
   ]
  },
  {
   "cell_type": "code",
   "execution_count": 10,
   "id": "050fdd1e",
   "metadata": {},
   "outputs": [],
   "source": [
    "df3 = df1.merge(df2, left_on=\"Member Type\", right_on=\"Type No\")"
   ]
  },
  {
   "cell_type": "code",
   "execution_count": 12,
   "id": "1b845fbb",
   "metadata": {},
   "outputs": [
    {
     "data": {
      "text/plain": [
       "Full Time     145\n",
       "Night Time     94\n",
       "Day Time       45\n",
       "Weekday        16\n",
       "Name: Type Name, dtype: int64"
      ]
     },
     "execution_count": 12,
     "metadata": {},
     "output_type": "execute_result"
    }
   ],
   "source": [
    "df3[\"Type Name\"].value_counts()"
   ]
  },
  {
   "cell_type": "code",
   "execution_count": 14,
   "id": "4a767fef",
   "metadata": {},
   "outputs": [
    {
     "data": {
      "text/plain": [
       "Index(['Full Time', 'Night Time', 'Day Time', 'Weekday'], dtype='object')"
      ]
     },
     "execution_count": 14,
     "metadata": {},
     "output_type": "execute_result"
    }
   ],
   "source": [
    "df3[\"Type Name\"].value_counts().index"
   ]
  },
  {
   "cell_type": "code",
   "execution_count": 15,
   "id": "0dbb912e",
   "metadata": {},
   "outputs": [],
   "source": [
    "size = df3[\"Type Name\"].value_counts()\n",
    "labels = df3[\"Type Name\"].value_counts().index"
   ]
  },
  {
   "cell_type": "code",
   "execution_count": 18,
   "id": "63dbc6d2",
   "metadata": {},
   "outputs": [
    {
     "data": {
      "text/plain": [
       "([<matplotlib.patches.Wedge at 0x286c878d640>,\n",
       "  <matplotlib.patches.Wedge at 0x286c878dcd0>,\n",
       "  <matplotlib.patches.Wedge at 0x286c879c460>,\n",
       "  <matplotlib.patches.Wedge at 0x286c879cb80>],\n",
       " [Text(1.0984924857146734, 0.05756959986310652, 'Full Time'),\n",
       "  Text(-0.8475645040313471, -0.7011664649040887, 'Night Time'),\n",
       "  Text(-0.7939363069844971, 0.7613574327816198, 'Day Time'),\n",
       "  Text(-0.18344567656167649, 1.0845956314455767, 'Weekday')],\n",
       " [Text(0.599177719480731, 0.03140159992533083, '48.3%'),\n",
       "  Text(-0.4623079112898256, -0.3824544354022302, '31.3%'),\n",
       "  Text(-0.43305616744608927, 0.415285872426338, '15.0%'),\n",
       "  Text(-0.1000612781245508, 0.5915976171521327, '5.3%')])"
      ]
     },
     "execution_count": 18,
     "metadata": {},
     "output_type": "execute_result"
    },
    {
     "data": {
      "image/png": "[encoded data removed]",
      "text/plain": [
       "<Figure size 432x288 with 1 Axes>"
      ]
     },
     "metadata": {},
     "output_type": "display_data"
    }
   ],
   "source": [
    "plt.pie(size, labels=labels, counterclock=False, startangle=90, autopct=\"%1.1f%%\")"
   ]
  },
  {
   "cell_type": "code",
   "execution_count": null,
   "id": "fce7aff7",
   "metadata": {},
   "outputs": [],
   "source": []
  }
 ],
 "metadata": {
  "kernelspec": {
   "display_name": "Python 3 (ipykernel)",
   "language": "python",
   "name": "python3"
  },
  "language_info": {
   "codemirror_mode": {
    "name": "ipython",
    "version": 3
   },
   "file_extension": ".py",
   "mimetype": "text/x-python",
   "name": "python",
   "nbconvert_exporter": "python",
   "pygments_lexer": "ipython3",
   "version": "3.9.12"
  }
 },
 "nbformat": 4,
 "nbformat_minor": 5
}
