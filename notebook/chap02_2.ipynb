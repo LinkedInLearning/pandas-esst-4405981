{
 "cells": [
  {
   "cell_type": "code",
   "execution_count": 21,
   "id": "1e9eb9ab",
   "metadata": {},
   "outputs": [],
   "source": [
    "import pandas as pd"
   ]
  },
  {
   "cell_type": "code",
   "execution_count": 22,
   "id": "7742d3c9",
   "metadata": {},
   "outputs": [],
   "source": [
    "df = pd.read_csv(\"../data/members.csv\")"
   ]
  },
  {
   "cell_type": "code",
   "execution_count": 23,
   "id": "37ad8618",
   "metadata": {},
   "outputs": [
    {
     "data": {
      "text/html": [
       "<div>\n",
       "<style scoped>\n",
       "    .dataframe tbody tr th:only-of-type {\n",
       "        vertical-align: middle;\n",
       "    }\n",
       "\n",
       "    .dataframe tbody tr th {\n",
       "        vertical-align: top;\n",
       "    }\n",
       "\n",
       "    .dataframe thead th {\n",
       "        text-align: right;\n",
       "    }\n",
       "</style>\n",
       "<table border=\"1\" class=\"dataframe\">\n",
       "  <thead>\n",
       "    <tr style=\"text-align: right;\">\n",
       "      <th></th>\n",
       "      <th>ID</th>\n",
       "      <th>First Name</th>\n",
       "      <th>Last Name</th>\n",
       "      <th>Email</th>\n",
       "      <th>Phone</th>\n",
       "      <th>Customer Type</th>\n",
       "      <th>Member Type</th>\n",
       "    </tr>\n",
       "  </thead>\n",
       "  <tbody>\n",
       "    <tr>\n",
       "      <th>0</th>\n",
       "      <td>100</td>\n",
       "      <td>Carol</td>\n",
       "      <td>Shaw</td>\n",
       "      <td>cshaw0@mlb.com</td>\n",
       "      <td>(206)804-8771</td>\n",
       "      <td>Individual</td>\n",
       "      <td>1</td>\n",
       "    </tr>\n",
       "    <tr>\n",
       "      <th>1</th>\n",
       "      <td>101</td>\n",
       "      <td>Elizabeth</td>\n",
       "      <td>Carr</td>\n",
       "      <td>ecarr1@oracle.com</td>\n",
       "      <td>(512)187-2507</td>\n",
       "      <td>Individual</td>\n",
       "      <td>1</td>\n",
       "    </tr>\n",
       "    <tr>\n",
       "      <th>2</th>\n",
       "      <td>102</td>\n",
       "      <td>Ernest</td>\n",
       "      <td>Ramos</td>\n",
       "      <td>eramos2@plala.or.jp</td>\n",
       "      <td>(816)540-4257</td>\n",
       "      <td>Individual</td>\n",
       "      <td>1</td>\n",
       "    </tr>\n",
       "    <tr>\n",
       "      <th>3</th>\n",
       "      <td>103</td>\n",
       "      <td>Jane</td>\n",
       "      <td>Carter</td>\n",
       "      <td>jcarter3@harvard.edu</td>\n",
       "      <td>(214)839-0542</td>\n",
       "      <td>Individual</td>\n",
       "      <td>1</td>\n",
       "    </tr>\n",
       "    <tr>\n",
       "      <th>4</th>\n",
       "      <td>104</td>\n",
       "      <td>Martha</td>\n",
       "      <td>Cooper</td>\n",
       "      <td>mcooper4@go.com</td>\n",
       "      <td>(727)235-5696</td>\n",
       "      <td>Individual</td>\n",
       "      <td>1</td>\n",
       "    </tr>\n",
       "    <tr>\n",
       "      <th>...</th>\n",
       "      <td>...</td>\n",
       "      <td>...</td>\n",
       "      <td>...</td>\n",
       "      <td>...</td>\n",
       "      <td>...</td>\n",
       "      <td>...</td>\n",
       "      <td>...</td>\n",
       "    </tr>\n",
       "    <tr>\n",
       "      <th>295</th>\n",
       "      <td>395</td>\n",
       "      <td>Diana</td>\n",
       "      <td>Hicks</td>\n",
       "      <td>dhicks87@bloglovin.com</td>\n",
       "      <td>(513)289-6421</td>\n",
       "      <td>Individual</td>\n",
       "      <td>1</td>\n",
       "    </tr>\n",
       "    <tr>\n",
       "      <th>296</th>\n",
       "      <td>396</td>\n",
       "      <td>Thomas</td>\n",
       "      <td>Griffin</td>\n",
       "      <td>tgriffin88@smugmug.com</td>\n",
       "      <td>(801)631-7393</td>\n",
       "      <td>Business</td>\n",
       "      <td>1</td>\n",
       "    </tr>\n",
       "    <tr>\n",
       "      <th>297</th>\n",
       "      <td>397</td>\n",
       "      <td>Jonathan</td>\n",
       "      <td>Turner</td>\n",
       "      <td>jturner89@fc2.com</td>\n",
       "      <td>(310)968-4752</td>\n",
       "      <td>Individual</td>\n",
       "      <td>1</td>\n",
       "    </tr>\n",
       "    <tr>\n",
       "      <th>298</th>\n",
       "      <td>398</td>\n",
       "      <td>Jeremy</td>\n",
       "      <td>Robinson</td>\n",
       "      <td>jrobinson8a@gnu.org</td>\n",
       "      <td>(616)146-1693</td>\n",
       "      <td>Individual</td>\n",
       "      <td>1</td>\n",
       "    </tr>\n",
       "    <tr>\n",
       "      <th>299</th>\n",
       "      <td>399</td>\n",
       "      <td>David</td>\n",
       "      <td>Robertson</td>\n",
       "      <td>drobertson8b@istockphoto.com</td>\n",
       "      <td>(404)982-4393</td>\n",
       "      <td>Individual</td>\n",
       "      <td>1</td>\n",
       "    </tr>\n",
       "  </tbody>\n",
       "</table>\n",
       "<p>300 rows × 7 columns</p>\n",
       "</div>"
      ],
      "text/plain": [
       "      ID First Name  Last Name                         Email          Phone  \\\n",
       "0    100      Carol       Shaw                cshaw0@mlb.com  (206)804-8771   \n",
       "1    101  Elizabeth       Carr             ecarr1@oracle.com  (512)187-2507   \n",
       "2    102     Ernest      Ramos           eramos2@plala.or.jp  (816)540-4257   \n",
       "3    103       Jane     Carter          jcarter3@harvard.edu  (214)839-0542   \n",
       "4    104     Martha     Cooper               mcooper4@go.com  (727)235-5696   \n",
       "..   ...        ...        ...                           ...            ...   \n",
       "295  395      Diana      Hicks        dhicks87@bloglovin.com  (513)289-6421   \n",
       "296  396     Thomas    Griffin        tgriffin88@smugmug.com  (801)631-7393   \n",
       "297  397   Jonathan     Turner             jturner89@fc2.com  (310)968-4752   \n",
       "298  398     Jeremy   Robinson           jrobinson8a@gnu.org  (616)146-1693   \n",
       "299  399      David  Robertson  drobertson8b@istockphoto.com  (404)982-4393   \n",
       "\n",
       "    Customer Type  Member Type  \n",
       "0      Individual            1  \n",
       "1      Individual            1  \n",
       "2      Individual            1  \n",
       "3      Individual            1  \n",
       "4      Individual            1  \n",
       "..            ...          ...  \n",
       "295    Individual            1  \n",
       "296      Business            1  \n",
       "297    Individual            1  \n",
       "298    Individual            1  \n",
       "299    Individual            1  \n",
       "\n",
       "[300 rows x 7 columns]"
      ]
     },
     "execution_count": 23,
     "metadata": {},
     "output_type": "execute_result"
    }
   ],
   "source": [
    "df"
   ]
  },
  {
   "cell_type": "code",
   "execution_count": 24,
   "id": "46ebe3fb",
   "metadata": {},
   "outputs": [
    {
     "data": {
      "text/plain": [
       "0          Carol\n",
       "1      Elizabeth\n",
       "2         Ernest\n",
       "3           Jane\n",
       "4         Martha\n",
       "         ...    \n",
       "295        Diana\n",
       "296       Thomas\n",
       "297     Jonathan\n",
       "298       Jeremy\n",
       "299        David\n",
       "Name: First Name, Length: 300, dtype: object"
      ]
     },
     "execution_count": 24,
     "metadata": {},
     "output_type": "execute_result"
    }
   ],
   "source": [
    "df[\"First Name\"]"
   ]
  },
  {
   "cell_type": "code",
   "execution_count": 25,
   "id": "a421b55b",
   "metadata": {},
   "outputs": [
    {
     "data": {
      "text/plain": [
       "pandas.core.series.Series"
      ]
     },
     "execution_count": 25,
     "metadata": {},
     "output_type": "execute_result"
    }
   ],
   "source": [
    "type(df[\"First Name\"])"
   ]
  },
  {
   "cell_type": "code",
   "execution_count": 26,
   "id": "4f4d9fdf",
   "metadata": {},
   "outputs": [],
   "source": [
    "ser = df[\"First Name\"]"
   ]
  },
  {
   "cell_type": "code",
   "execution_count": 27,
   "id": "605b185e",
   "metadata": {},
   "outputs": [
    {
     "data": {
      "text/plain": [
       "pandas.core.series.Series"
      ]
     },
     "execution_count": 27,
     "metadata": {},
     "output_type": "execute_result"
    }
   ],
   "source": [
    "type(ser)"
   ]
  },
  {
   "cell_type": "code",
   "execution_count": 28,
   "id": "dd6ec877",
   "metadata": {},
   "outputs": [
    {
     "data": {
      "text/html": [
       "<div>\n",
       "<style scoped>\n",
       "    .dataframe tbody tr th:only-of-type {\n",
       "        vertical-align: middle;\n",
       "    }\n",
       "\n",
       "    .dataframe tbody tr th {\n",
       "        vertical-align: top;\n",
       "    }\n",
       "\n",
       "    .dataframe thead th {\n",
       "        text-align: right;\n",
       "    }\n",
       "</style>\n",
       "<table border=\"1\" class=\"dataframe\">\n",
       "  <thead>\n",
       "    <tr style=\"text-align: right;\">\n",
       "      <th></th>\n",
       "      <th>First Name</th>\n",
       "      <th>Last Name</th>\n",
       "    </tr>\n",
       "  </thead>\n",
       "  <tbody>\n",
       "    <tr>\n",
       "      <th>0</th>\n",
       "      <td>Carol</td>\n",
       "      <td>Shaw</td>\n",
       "    </tr>\n",
       "    <tr>\n",
       "      <th>1</th>\n",
       "      <td>Elizabeth</td>\n",
       "      <td>Carr</td>\n",
       "    </tr>\n",
       "    <tr>\n",
       "      <th>2</th>\n",
       "      <td>Ernest</td>\n",
       "      <td>Ramos</td>\n",
       "    </tr>\n",
       "    <tr>\n",
       "      <th>3</th>\n",
       "      <td>Jane</td>\n",
       "      <td>Carter</td>\n",
       "    </tr>\n",
       "    <tr>\n",
       "      <th>4</th>\n",
       "      <td>Martha</td>\n",
       "      <td>Cooper</td>\n",
       "    </tr>\n",
       "    <tr>\n",
       "      <th>...</th>\n",
       "      <td>...</td>\n",
       "      <td>...</td>\n",
       "    </tr>\n",
       "    <tr>\n",
       "      <th>295</th>\n",
       "      <td>Diana</td>\n",
       "      <td>Hicks</td>\n",
       "    </tr>\n",
       "    <tr>\n",
       "      <th>296</th>\n",
       "      <td>Thomas</td>\n",
       "      <td>Griffin</td>\n",
       "    </tr>\n",
       "    <tr>\n",
       "      <th>297</th>\n",
       "      <td>Jonathan</td>\n",
       "      <td>Turner</td>\n",
       "    </tr>\n",
       "    <tr>\n",
       "      <th>298</th>\n",
       "      <td>Jeremy</td>\n",
       "      <td>Robinson</td>\n",
       "    </tr>\n",
       "    <tr>\n",
       "      <th>299</th>\n",
       "      <td>David</td>\n",
       "      <td>Robertson</td>\n",
       "    </tr>\n",
       "  </tbody>\n",
       "</table>\n",
       "<p>300 rows × 2 columns</p>\n",
       "</div>"
      ],
      "text/plain": [
       "    First Name  Last Name\n",
       "0        Carol       Shaw\n",
       "1    Elizabeth       Carr\n",
       "2       Ernest      Ramos\n",
       "3         Jane     Carter\n",
       "4       Martha     Cooper\n",
       "..         ...        ...\n",
       "295      Diana      Hicks\n",
       "296     Thomas    Griffin\n",
       "297   Jonathan     Turner\n",
       "298     Jeremy   Robinson\n",
       "299      David  Robertson\n",
       "\n",
       "[300 rows x 2 columns]"
      ]
     },
     "execution_count": 28,
     "metadata": {},
     "output_type": "execute_result"
    }
   ],
   "source": [
    "df[[\"First Name\", \"Last Name\"]]"
   ]
  },
  {
   "cell_type": "code",
   "execution_count": 29,
   "id": "b4b797f6",
   "metadata": {},
   "outputs": [
    {
     "data": {
      "text/plain": [
       "pandas.core.frame.DataFrame"
      ]
     },
     "execution_count": 29,
     "metadata": {},
     "output_type": "execute_result"
    }
   ],
   "source": [
    "type(df[[\"First Name\", \"Last Name\"]])"
   ]
  },
  {
   "cell_type": "code",
   "execution_count": 30,
   "id": "88672dcf",
   "metadata": {},
   "outputs": [],
   "source": [
    "ser = df.iloc[0,:]"
   ]
  },
  {
   "cell_type": "code",
   "execution_count": 31,
   "id": "dfc65c58",
   "metadata": {},
   "outputs": [
    {
     "data": {
      "text/plain": [
       "ID                          100\n",
       "First Name                Carol\n",
       "Last Name                  Shaw\n",
       "Email            cshaw0@mlb.com\n",
       "Phone             (206)804-8771\n",
       "Customer Type        Individual\n",
       "Member Type                   1\n",
       "Name: 0, dtype: object"
      ]
     },
     "execution_count": 31,
     "metadata": {},
     "output_type": "execute_result"
    }
   ],
   "source": [
    "ser"
   ]
  },
  {
   "cell_type": "code",
   "execution_count": 32,
   "id": "5e6be0e3",
   "metadata": {},
   "outputs": [
    {
     "data": {
      "text/plain": [
       "pandas.core.series.Series"
      ]
     },
     "execution_count": 32,
     "metadata": {},
     "output_type": "execute_result"
    }
   ],
   "source": [
    "type(ser)"
   ]
  },
  {
   "cell_type": "code",
   "execution_count": 33,
   "id": "5447eb34",
   "metadata": {},
   "outputs": [
    {
     "data": {
      "text/plain": [
       "0    1\n",
       "1    2\n",
       "2    3\n",
       "3    4\n",
       "4    5\n",
       "dtype: int64"
      ]
     },
     "execution_count": 33,
     "metadata": {},
     "output_type": "execute_result"
    }
   ],
   "source": [
    "pd.Series([1,2,3,4,5])"
   ]
  },
  {
   "cell_type": "code",
   "execution_count": 34,
   "id": "de766e80",
   "metadata": {},
   "outputs": [],
   "source": [
    "import numpy as np"
   ]
  },
  {
   "cell_type": "code",
   "execution_count": 35,
   "id": "0ab7bfb7",
   "metadata": {},
   "outputs": [
    {
     "data": {
      "text/plain": [
       "0      0\n",
       "1      1\n",
       "2      2\n",
       "3      3\n",
       "4      4\n",
       "      ..\n",
       "95    95\n",
       "96    96\n",
       "97    97\n",
       "98    98\n",
       "99    99\n",
       "Length: 100, dtype: int32"
      ]
     },
     "execution_count": 35,
     "metadata": {},
     "output_type": "execute_result"
    }
   ],
   "source": [
    "pd.Series(np.arange(100))"
   ]
  },
  {
   "cell_type": "code",
   "execution_count": 36,
   "id": "837ca6b4",
   "metadata": {},
   "outputs": [
    {
     "data": {
      "text/plain": [
       "pandas.core.series.Series"
      ]
     },
     "execution_count": 36,
     "metadata": {},
     "output_type": "execute_result"
    }
   ],
   "source": [
    "type(pd.Series(np.arange(100)))"
   ]
  },
  {
   "cell_type": "code",
   "execution_count": 37,
   "id": "2c0f8ba8",
   "metadata": {},
   "outputs": [],
   "source": [
    "df = pd.DataFrame(pd.Series(np.arange(100)))"
   ]
  },
  {
   "cell_type": "code",
   "execution_count": 38,
   "id": "3395e636",
   "metadata": {},
   "outputs": [
    {
     "data": {
      "text/html": [
       "<div>\n",
       "<style scoped>\n",
       "    .dataframe tbody tr th:only-of-type {\n",
       "        vertical-align: middle;\n",
       "    }\n",
       "\n",
       "    .dataframe tbody tr th {\n",
       "        vertical-align: top;\n",
       "    }\n",
       "\n",
       "    .dataframe thead th {\n",
       "        text-align: right;\n",
       "    }\n",
       "</style>\n",
       "<table border=\"1\" class=\"dataframe\">\n",
       "  <thead>\n",
       "    <tr style=\"text-align: right;\">\n",
       "      <th></th>\n",
       "      <th>0</th>\n",
       "    </tr>\n",
       "  </thead>\n",
       "  <tbody>\n",
       "    <tr>\n",
       "      <th>0</th>\n",
       "      <td>0</td>\n",
       "    </tr>\n",
       "    <tr>\n",
       "      <th>1</th>\n",
       "      <td>1</td>\n",
       "    </tr>\n",
       "    <tr>\n",
       "      <th>2</th>\n",
       "      <td>2</td>\n",
       "    </tr>\n",
       "    <tr>\n",
       "      <th>3</th>\n",
       "      <td>3</td>\n",
       "    </tr>\n",
       "    <tr>\n",
       "      <th>4</th>\n",
       "      <td>4</td>\n",
       "    </tr>\n",
       "    <tr>\n",
       "      <th>...</th>\n",
       "      <td>...</td>\n",
       "    </tr>\n",
       "    <tr>\n",
       "      <th>95</th>\n",
       "      <td>95</td>\n",
       "    </tr>\n",
       "    <tr>\n",
       "      <th>96</th>\n",
       "      <td>96</td>\n",
       "    </tr>\n",
       "    <tr>\n",
       "      <th>97</th>\n",
       "      <td>97</td>\n",
       "    </tr>\n",
       "    <tr>\n",
       "      <th>98</th>\n",
       "      <td>98</td>\n",
       "    </tr>\n",
       "    <tr>\n",
       "      <th>99</th>\n",
       "      <td>99</td>\n",
       "    </tr>\n",
       "  </tbody>\n",
       "</table>\n",
       "<p>100 rows × 1 columns</p>\n",
       "</div>"
      ],
      "text/plain": [
       "     0\n",
       "0    0\n",
       "1    1\n",
       "2    2\n",
       "3    3\n",
       "4    4\n",
       "..  ..\n",
       "95  95\n",
       "96  96\n",
       "97  97\n",
       "98  98\n",
       "99  99\n",
       "\n",
       "[100 rows x 1 columns]"
      ]
     },
     "execution_count": 38,
     "metadata": {},
     "output_type": "execute_result"
    }
   ],
   "source": [
    "df"
   ]
  },
  {
   "cell_type": "code",
   "execution_count": null,
   "id": "9c112c2a",
   "metadata": {},
   "outputs": [],
   "source": []
  }
 ],
 "metadata": {
  "kernelspec": {
   "display_name": "Python 3 (ipykernel)",
   "language": "python",
   "name": "python3"
  },
  "language_info": {
   "codemirror_mode": {
    "name": "ipython",
    "version": 3
   },
   "file_extension": ".py",
   "mimetype": "text/x-python",
   "name": "python",
   "nbconvert_exporter": "python",
   "pygments_lexer": "ipython3",
   "version": "3.10.9"
  }
 },
 "nbformat": 4,
 "nbformat_minor": 5
}
