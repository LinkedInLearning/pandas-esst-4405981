{
 "cells": [
  {
   "cell_type": "code",
   "execution_count": 1,
   "id": "86beccae",
   "metadata": {},
   "outputs": [],
   "source": [
    "import pandas as pd\n",
    "df = pd.read_excel(\"../data/LogData_欠損値あり.xlsx\")"
   ]
  },
  {
   "cell_type": "code",
   "execution_count": 2,
   "id": "e665cac9",
   "metadata": {},
   "outputs": [
    {
     "data": {
      "text/plain": [
       "LogID            0\n",
       "MachineID        0\n",
       "StartDateTime    0\n",
       "EndDateTime      5\n",
       "dtype: int64"
      ]
     },
     "execution_count": 2,
     "metadata": {},
     "output_type": "execute_result"
    }
   ],
   "source": [
    "df.isnull().sum()"
   ]
  },
  {
   "cell_type": "code",
   "execution_count": 3,
   "id": "351199c1",
   "metadata": {},
   "outputs": [
    {
     "data": {
      "text/html": [
       "<div>\n",
       "<style scoped>\n",
       "    .dataframe tbody tr th:only-of-type {\n",
       "        vertical-align: middle;\n",
       "    }\n",
       "\n",
       "    .dataframe tbody tr th {\n",
       "        vertical-align: top;\n",
       "    }\n",
       "\n",
       "    .dataframe thead th {\n",
       "        text-align: right;\n",
       "    }\n",
       "</style>\n",
       "<table border=\"1\" class=\"dataframe\">\n",
       "  <thead>\n",
       "    <tr style=\"text-align: right;\">\n",
       "      <th></th>\n",
       "      <th>LogID</th>\n",
       "      <th>MachineID</th>\n",
       "      <th>StartDateTime</th>\n",
       "      <th>EndDateTime</th>\n",
       "    </tr>\n",
       "  </thead>\n",
       "  <tbody>\n",
       "    <tr>\n",
       "      <th>9</th>\n",
       "      <td>10010</td>\n",
       "      <td>17</td>\n",
       "      <td>2023-03-30 11:57:46.459</td>\n",
       "      <td>NaT</td>\n",
       "    </tr>\n",
       "    <tr>\n",
       "      <th>69</th>\n",
       "      <td>10070</td>\n",
       "      <td>6</td>\n",
       "      <td>2023-04-03 05:14:42.459</td>\n",
       "      <td>NaT</td>\n",
       "    </tr>\n",
       "    <tr>\n",
       "      <th>99</th>\n",
       "      <td>10100</td>\n",
       "      <td>14</td>\n",
       "      <td>2023-04-05 15:41:05.459</td>\n",
       "      <td>NaT</td>\n",
       "    </tr>\n",
       "    <tr>\n",
       "      <th>920</th>\n",
       "      <td>10921</td>\n",
       "      <td>5</td>\n",
       "      <td>2023-06-20 09:22:33.459</td>\n",
       "      <td>NaT</td>\n",
       "    </tr>\n",
       "    <tr>\n",
       "      <th>973</th>\n",
       "      <td>10974</td>\n",
       "      <td>11</td>\n",
       "      <td>2023-06-25 07:34:46.459</td>\n",
       "      <td>NaT</td>\n",
       "    </tr>\n",
       "  </tbody>\n",
       "</table>\n",
       "</div>"
      ],
      "text/plain": [
       "     LogID  MachineID           StartDateTime EndDateTime\n",
       "9    10010         17 2023-03-30 11:57:46.459         NaT\n",
       "69   10070          6 2023-04-03 05:14:42.459         NaT\n",
       "99   10100         14 2023-04-05 15:41:05.459         NaT\n",
       "920  10921          5 2023-06-20 09:22:33.459         NaT\n",
       "973  10974         11 2023-06-25 07:34:46.459         NaT"
      ]
     },
     "execution_count": 3,
     "metadata": {},
     "output_type": "execute_result"
    }
   ],
   "source": [
    "df[df[\"EndDateTime\"].isnull()]"
   ]
  },
  {
   "cell_type": "code",
   "execution_count": 4,
   "id": "e6b39dbd",
   "metadata": {},
   "outputs": [
    {
     "data": {
      "text/html": [
       "<div>\n",
       "<style scoped>\n",
       "    .dataframe tbody tr th:only-of-type {\n",
       "        vertical-align: middle;\n",
       "    }\n",
       "\n",
       "    .dataframe tbody tr th {\n",
       "        vertical-align: top;\n",
       "    }\n",
       "\n",
       "    .dataframe thead th {\n",
       "        text-align: right;\n",
       "    }\n",
       "</style>\n",
       "<table border=\"1\" class=\"dataframe\">\n",
       "  <thead>\n",
       "    <tr style=\"text-align: right;\">\n",
       "      <th></th>\n",
       "      <th>LogID</th>\n",
       "      <th>MachineID</th>\n",
       "      <th>StartDateTime</th>\n",
       "      <th>EndDateTime</th>\n",
       "    </tr>\n",
       "  </thead>\n",
       "  <tbody>\n",
       "    <tr>\n",
       "      <th>9</th>\n",
       "      <td>10010</td>\n",
       "      <td>17</td>\n",
       "      <td>2023-03-30 11:57:46.459</td>\n",
       "      <td>NaT</td>\n",
       "    </tr>\n",
       "    <tr>\n",
       "      <th>69</th>\n",
       "      <td>10070</td>\n",
       "      <td>6</td>\n",
       "      <td>2023-04-03 05:14:42.459</td>\n",
       "      <td>NaT</td>\n",
       "    </tr>\n",
       "    <tr>\n",
       "      <th>99</th>\n",
       "      <td>10100</td>\n",
       "      <td>14</td>\n",
       "      <td>2023-04-05 15:41:05.459</td>\n",
       "      <td>NaT</td>\n",
       "    </tr>\n",
       "    <tr>\n",
       "      <th>920</th>\n",
       "      <td>10921</td>\n",
       "      <td>5</td>\n",
       "      <td>2023-06-20 09:22:33.459</td>\n",
       "      <td>NaT</td>\n",
       "    </tr>\n",
       "    <tr>\n",
       "      <th>973</th>\n",
       "      <td>10974</td>\n",
       "      <td>11</td>\n",
       "      <td>2023-06-25 07:34:46.459</td>\n",
       "      <td>NaT</td>\n",
       "    </tr>\n",
       "  </tbody>\n",
       "</table>\n",
       "</div>"
      ],
      "text/plain": [
       "     LogID  MachineID           StartDateTime EndDateTime\n",
       "9    10010         17 2023-03-30 11:57:46.459         NaT\n",
       "69   10070          6 2023-04-03 05:14:42.459         NaT\n",
       "99   10100         14 2023-04-05 15:41:05.459         NaT\n",
       "920  10921          5 2023-06-20 09:22:33.459         NaT\n",
       "973  10974         11 2023-06-25 07:34:46.459         NaT"
      ]
     },
     "execution_count": 4,
     "metadata": {},
     "output_type": "execute_result"
    }
   ],
   "source": [
    "df[df[\"EndDateTime\"].isna()]"
   ]
  },
  {
   "cell_type": "code",
   "execution_count": 2,
   "id": "5042c1b4",
   "metadata": {},
   "outputs": [],
   "source": [
    "ser = df[\"EndDateTime\"] - df[\"StartDateTime\"]"
   ]
  },
  {
   "cell_type": "code",
   "execution_count": 6,
   "id": "24c4793d",
   "metadata": {},
   "outputs": [
    {
     "data": {
      "text/plain": [
       "0     0 days 00:17:06\n",
       "1     0 days 00:11:30\n",
       "2     0 days 00:26:24\n",
       "3     0 days 00:46:16\n",
       "4     0 days 00:11:57\n",
       "            ...      \n",
       "995   0 days 00:21:10\n",
       "996   0 days 00:19:53\n",
       "997   0 days 00:18:01\n",
       "998   0 days 00:34:29\n",
       "999   0 days 00:25:13\n",
       "Length: 1000, dtype: timedelta64[ns]"
      ]
     },
     "execution_count": 6,
     "metadata": {},
     "output_type": "execute_result"
    }
   ],
   "source": [
    "ser"
   ]
  },
  {
   "cell_type": "code",
   "execution_count": 7,
   "id": "cf9590f2",
   "metadata": {},
   "outputs": [
    {
     "data": {
      "text/plain": [
       "Timedelta('0 days 00:35:01.059296482')"
      ]
     },
     "execution_count": 7,
     "metadata": {},
     "output_type": "execute_result"
    }
   ],
   "source": [
    "ser.mean()"
   ]
  },
  {
   "cell_type": "code",
   "execution_count": 8,
   "id": "071ab621",
   "metadata": {},
   "outputs": [
    {
     "data": {
      "text/html": [
       "<div>\n",
       "<style scoped>\n",
       "    .dataframe tbody tr th:only-of-type {\n",
       "        vertical-align: middle;\n",
       "    }\n",
       "\n",
       "    .dataframe tbody tr th {\n",
       "        vertical-align: top;\n",
       "    }\n",
       "\n",
       "    .dataframe thead th {\n",
       "        text-align: right;\n",
       "    }\n",
       "</style>\n",
       "<table border=\"1\" class=\"dataframe\">\n",
       "  <thead>\n",
       "    <tr style=\"text-align: right;\">\n",
       "      <th></th>\n",
       "      <th>LogID</th>\n",
       "      <th>MachineID</th>\n",
       "      <th>StartDateTime</th>\n",
       "      <th>EndDateTime</th>\n",
       "    </tr>\n",
       "  </thead>\n",
       "  <tbody>\n",
       "    <tr>\n",
       "      <th>9</th>\n",
       "      <td>10010</td>\n",
       "      <td>17</td>\n",
       "      <td>2023-03-30 11:57:46.459</td>\n",
       "      <td>NaT</td>\n",
       "    </tr>\n",
       "    <tr>\n",
       "      <th>69</th>\n",
       "      <td>10070</td>\n",
       "      <td>6</td>\n",
       "      <td>2023-04-03 05:14:42.459</td>\n",
       "      <td>NaT</td>\n",
       "    </tr>\n",
       "    <tr>\n",
       "      <th>99</th>\n",
       "      <td>10100</td>\n",
       "      <td>14</td>\n",
       "      <td>2023-04-05 15:41:05.459</td>\n",
       "      <td>NaT</td>\n",
       "    </tr>\n",
       "    <tr>\n",
       "      <th>920</th>\n",
       "      <td>10921</td>\n",
       "      <td>5</td>\n",
       "      <td>2023-06-20 09:22:33.459</td>\n",
       "      <td>NaT</td>\n",
       "    </tr>\n",
       "    <tr>\n",
       "      <th>973</th>\n",
       "      <td>10974</td>\n",
       "      <td>11</td>\n",
       "      <td>2023-06-25 07:34:46.459</td>\n",
       "      <td>NaT</td>\n",
       "    </tr>\n",
       "  </tbody>\n",
       "</table>\n",
       "</div>"
      ],
      "text/plain": [
       "     LogID  MachineID           StartDateTime EndDateTime\n",
       "9    10010         17 2023-03-30 11:57:46.459         NaT\n",
       "69   10070          6 2023-04-03 05:14:42.459         NaT\n",
       "99   10100         14 2023-04-05 15:41:05.459         NaT\n",
       "920  10921          5 2023-06-20 09:22:33.459         NaT\n",
       "973  10974         11 2023-06-25 07:34:46.459         NaT"
      ]
     },
     "execution_count": 8,
     "metadata": {},
     "output_type": "execute_result"
    }
   ],
   "source": [
    "df[df[\"EndDateTime\"].isna()]"
   ]
  },
  {
   "cell_type": "code",
   "execution_count": 3,
   "id": "e12ffd0e",
   "metadata": {},
   "outputs": [],
   "source": [
    "df[\"EndDateTime\"].fillna(df[\"StartDateTime\"] + ser.mean(), inplace=True)"
   ]
  },
  {
   "cell_type": "code",
   "execution_count": 10,
   "id": "d7560e95",
   "metadata": {},
   "outputs": [
    {
     "data": {
      "text/html": [
       "<div>\n",
       "<style scoped>\n",
       "    .dataframe tbody tr th:only-of-type {\n",
       "        vertical-align: middle;\n",
       "    }\n",
       "\n",
       "    .dataframe tbody tr th {\n",
       "        vertical-align: top;\n",
       "    }\n",
       "\n",
       "    .dataframe thead th {\n",
       "        text-align: right;\n",
       "    }\n",
       "</style>\n",
       "<table border=\"1\" class=\"dataframe\">\n",
       "  <thead>\n",
       "    <tr style=\"text-align: right;\">\n",
       "      <th></th>\n",
       "      <th>LogID</th>\n",
       "      <th>MachineID</th>\n",
       "      <th>StartDateTime</th>\n",
       "      <th>EndDateTime</th>\n",
       "    </tr>\n",
       "  </thead>\n",
       "  <tbody>\n",
       "    <tr>\n",
       "      <th>9</th>\n",
       "      <td>10010</td>\n",
       "      <td>17</td>\n",
       "      <td>2023-03-30 11:57:46.459</td>\n",
       "      <td>2023-03-30 12:32:47.518296482</td>\n",
       "    </tr>\n",
       "    <tr>\n",
       "      <th>69</th>\n",
       "      <td>10070</td>\n",
       "      <td>6</td>\n",
       "      <td>2023-04-03 05:14:42.459</td>\n",
       "      <td>2023-04-03 05:49:43.518296482</td>\n",
       "    </tr>\n",
       "    <tr>\n",
       "      <th>99</th>\n",
       "      <td>10100</td>\n",
       "      <td>14</td>\n",
       "      <td>2023-04-05 15:41:05.459</td>\n",
       "      <td>2023-04-05 16:16:06.518296482</td>\n",
       "    </tr>\n",
       "    <tr>\n",
       "      <th>920</th>\n",
       "      <td>10921</td>\n",
       "      <td>5</td>\n",
       "      <td>2023-06-20 09:22:33.459</td>\n",
       "      <td>2023-06-20 09:57:34.518296482</td>\n",
       "    </tr>\n",
       "    <tr>\n",
       "      <th>973</th>\n",
       "      <td>10974</td>\n",
       "      <td>11</td>\n",
       "      <td>2023-06-25 07:34:46.459</td>\n",
       "      <td>2023-06-25 08:09:47.518296482</td>\n",
       "    </tr>\n",
       "  </tbody>\n",
       "</table>\n",
       "</div>"
      ],
      "text/plain": [
       "     LogID  MachineID           StartDateTime                   EndDateTime\n",
       "9    10010         17 2023-03-30 11:57:46.459 2023-03-30 12:32:47.518296482\n",
       "69   10070          6 2023-04-03 05:14:42.459 2023-04-03 05:49:43.518296482\n",
       "99   10100         14 2023-04-05 15:41:05.459 2023-04-05 16:16:06.518296482\n",
       "920  10921          5 2023-06-20 09:22:33.459 2023-06-20 09:57:34.518296482\n",
       "973  10974         11 2023-06-25 07:34:46.459 2023-06-25 08:09:47.518296482"
      ]
     },
     "execution_count": 10,
     "metadata": {},
     "output_type": "execute_result"
    }
   ],
   "source": [
    "df[df[\"LogID\"].isin([10010,10070,10100,10921,10974])]"
   ]
  },
  {
   "cell_type": "code",
   "execution_count": 19,
   "id": "cb790fd8",
   "metadata": {},
   "outputs": [
    {
     "data": {
      "text/plain": [
       "0      Wednesday\n",
       "1      Wednesday\n",
       "2      Wednesday\n",
       "3      Wednesday\n",
       "4      Wednesday\n",
       "         ...    \n",
       "995      Tuesday\n",
       "996      Tuesday\n",
       "997      Tuesday\n",
       "998      Tuesday\n",
       "999      Tuesday\n",
       "Name: StartDateTime, Length: 1000, dtype: object"
      ]
     },
     "execution_count": 19,
     "metadata": {},
     "output_type": "execute_result"
    }
   ],
   "source": [
    "df[\"StartDateTime\"].dt.day_name()"
   ]
  },
  {
   "cell_type": "code",
   "execution_count": 20,
   "id": "ebc98644",
   "metadata": {},
   "outputs": [
    {
     "data": {
      "text/plain": [
       "0      Wed\n",
       "1      Wed\n",
       "2      Wed\n",
       "3      Wed\n",
       "4      Wed\n",
       "      ... \n",
       "995    Tue\n",
       "996    Tue\n",
       "997    Tue\n",
       "998    Tue\n",
       "999    Tue\n",
       "Name: StartDateTime, Length: 1000, dtype: object"
      ]
     },
     "execution_count": 20,
     "metadata": {},
     "output_type": "execute_result"
    }
   ],
   "source": [
    "df[\"StartDateTime\"].dt.strftime(\"%a\")"
   ]
  },
  {
   "cell_type": "code",
   "execution_count": 21,
   "id": "c4d82c04",
   "metadata": {},
   "outputs": [
    {
     "data": {
      "text/plain": [
       "0      2\n",
       "1      2\n",
       "2      2\n",
       "3      2\n",
       "4      2\n",
       "      ..\n",
       "995    1\n",
       "996    1\n",
       "997    1\n",
       "998    1\n",
       "999    1\n",
       "Name: StartDateTime, Length: 1000, dtype: int64"
      ]
     },
     "execution_count": 21,
     "metadata": {},
     "output_type": "execute_result"
    }
   ],
   "source": [
    "df[\"StartDateTime\"].dt.weekday"
   ]
  },
  {
   "cell_type": "code",
   "execution_count": 22,
   "id": "cf4f7619",
   "metadata": {},
   "outputs": [
    {
     "data": {
      "text/plain": [
       "0      2\n",
       "1      2\n",
       "2      2\n",
       "3      2\n",
       "4      2\n",
       "      ..\n",
       "995    1\n",
       "996    1\n",
       "997    1\n",
       "998    1\n",
       "999    1\n",
       "Name: StartDateTime, Length: 1000, dtype: int64"
      ]
     },
     "execution_count": 22,
     "metadata": {},
     "output_type": "execute_result"
    }
   ],
   "source": [
    "df[\"StartDateTime\"].dt.dayofweek"
   ]
  },
  {
   "cell_type": "code",
   "execution_count": 23,
   "id": "af5cafee",
   "metadata": {},
   "outputs": [
    {
     "data": {
      "text/plain": [
       "0      2023\n",
       "1      2023\n",
       "2      2023\n",
       "3      2023\n",
       "4      2023\n",
       "       ... \n",
       "995    2023\n",
       "996    2023\n",
       "997    2023\n",
       "998    2023\n",
       "999    2023\n",
       "Name: StartDateTime, Length: 1000, dtype: int64"
      ]
     },
     "execution_count": 23,
     "metadata": {},
     "output_type": "execute_result"
    }
   ],
   "source": [
    "df[\"StartDateTime\"].dt.year"
   ]
  },
  {
   "cell_type": "code",
   "execution_count": 24,
   "id": "39c4cd90",
   "metadata": {},
   "outputs": [
    {
     "data": {
      "text/plain": [
       "0      3\n",
       "1      3\n",
       "2      3\n",
       "3      3\n",
       "4      3\n",
       "      ..\n",
       "995    6\n",
       "996    6\n",
       "997    6\n",
       "998    6\n",
       "999    6\n",
       "Name: StartDateTime, Length: 1000, dtype: int64"
      ]
     },
     "execution_count": 24,
     "metadata": {},
     "output_type": "execute_result"
    }
   ],
   "source": [
    "df[\"StartDateTime\"].dt.month"
   ]
  },
  {
   "cell_type": "code",
   "execution_count": 25,
   "id": "a44f5aed",
   "metadata": {},
   "outputs": [
    {
     "data": {
      "text/plain": [
       "0      29\n",
       "1      29\n",
       "2      29\n",
       "3      29\n",
       "4      29\n",
       "       ..\n",
       "995    27\n",
       "996    27\n",
       "997    27\n",
       "998    27\n",
       "999    27\n",
       "Name: StartDateTime, Length: 1000, dtype: int64"
      ]
     },
     "execution_count": 25,
     "metadata": {},
     "output_type": "execute_result"
    }
   ],
   "source": [
    "df[\"StartDateTime\"].dt.day"
   ]
  },
  {
   "cell_type": "code",
   "execution_count": 26,
   "id": "ae7944ae",
   "metadata": {},
   "outputs": [
    {
     "data": {
      "text/plain": [
       "0      2023-03-29\n",
       "1      2023-03-29\n",
       "2      2023-03-29\n",
       "3      2023-03-29\n",
       "4      2023-03-29\n",
       "          ...    \n",
       "995    2023-06-27\n",
       "996    2023-06-27\n",
       "997    2023-06-27\n",
       "998    2023-06-27\n",
       "999    2023-06-27\n",
       "Name: StartDateTime, Length: 1000, dtype: object"
      ]
     },
     "execution_count": 26,
     "metadata": {},
     "output_type": "execute_result"
    }
   ],
   "source": [
    "df[\"StartDateTime\"].dt.date"
   ]
  },
  {
   "cell_type": "code",
   "execution_count": 27,
   "id": "d8ae2483",
   "metadata": {},
   "outputs": [
    {
     "data": {
      "text/plain": [
       "0      15:29:51.459000\n",
       "1      15:33:58.459000\n",
       "2      17:16:39.459000\n",
       "3      21:19:55.459000\n",
       "4      22:54:48.459000\n",
       "            ...       \n",
       "995    06:59:58.459000\n",
       "996    07:34:13.459000\n",
       "997    08:32:58.459000\n",
       "998    13:15:39.459000\n",
       "999    13:40:04.459000\n",
       "Name: StartDateTime, Length: 1000, dtype: object"
      ]
     },
     "execution_count": 27,
     "metadata": {},
     "output_type": "execute_result"
    }
   ],
   "source": [
    "df[\"StartDateTime\"].dt.time"
   ]
  },
  {
   "cell_type": "code",
   "execution_count": 28,
   "id": "005d3933",
   "metadata": {},
   "outputs": [
    {
     "data": {
      "text/plain": [
       "0      15\n",
       "1      15\n",
       "2      17\n",
       "3      21\n",
       "4      22\n",
       "       ..\n",
       "995     6\n",
       "996     7\n",
       "997     8\n",
       "998    13\n",
       "999    13\n",
       "Name: StartDateTime, Length: 1000, dtype: int64"
      ]
     },
     "execution_count": 28,
     "metadata": {},
     "output_type": "execute_result"
    }
   ],
   "source": [
    "df[\"StartDateTime\"].dt.hour"
   ]
  },
  {
   "cell_type": "code",
   "execution_count": 29,
   "id": "614cc405",
   "metadata": {},
   "outputs": [
    {
     "data": {
      "text/plain": [
       "0      29\n",
       "1      33\n",
       "2      16\n",
       "3      19\n",
       "4      54\n",
       "       ..\n",
       "995    59\n",
       "996    34\n",
       "997    32\n",
       "998    15\n",
       "999    40\n",
       "Name: StartDateTime, Length: 1000, dtype: int64"
      ]
     },
     "execution_count": 29,
     "metadata": {},
     "output_type": "execute_result"
    }
   ],
   "source": [
    "df[\"StartDateTime\"].dt.minute"
   ]
  },
  {
   "cell_type": "code",
   "execution_count": 30,
   "id": "87b71a65",
   "metadata": {},
   "outputs": [
    {
     "data": {
      "text/plain": [
       "0      51\n",
       "1      58\n",
       "2      39\n",
       "3      55\n",
       "4      48\n",
       "       ..\n",
       "995    58\n",
       "996    13\n",
       "997    58\n",
       "998    39\n",
       "999     4\n",
       "Name: StartDateTime, Length: 1000, dtype: int64"
      ]
     },
     "execution_count": 30,
     "metadata": {},
     "output_type": "execute_result"
    }
   ],
   "source": [
    "df[\"StartDateTime\"].dt.second"
   ]
  },
  {
   "cell_type": "code",
   "execution_count": null,
   "id": "8a4f60ac",
   "metadata": {},
   "outputs": [],
   "source": []
  }
 ],
 "metadata": {
  "kernelspec": {
   "display_name": "Python 3 (ipykernel)",
   "language": "python",
   "name": "python3"
  },
  "language_info": {
   "codemirror_mode": {
    "name": "ipython",
    "version": 3
   },
   "file_extension": ".py",
   "mimetype": "text/x-python",
   "name": "python",
   "nbconvert_exporter": "python",
   "pygments_lexer": "ipython3",
   "version": "3.9.12"
  }
 },
 "nbformat": 4,
 "nbformat_minor": 5
}
